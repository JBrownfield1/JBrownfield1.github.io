{
 "cells": [
  {
   "cell_type": "markdown",
   "id": "cf846dc9",
   "metadata": {},
   "source": [
    "# A Beginner's Analysis of Chess"
   ]
  },
  {
   "cell_type": "markdown",
   "id": "1340e728",
   "metadata": {},
   "source": [
    "# Introduction\n",
    "Chess is a game that is often described as being about patterns. Most people train for years to try and develop an intuitive feel for how those patterns play out inside a particular game, to the point where experts say they can often see the next move without having to even really think about it. However, for the sake of not spending years to achieve this, we might be interested in finding shortcuts when it comes to making decisions in chess. However, in a game with over one thousand three hundred and twenty seven named openings (Oxford Companion to Chess), it seems that the search space is a little too extreme for human hands.\n",
    "\n",
    "With this in mind, we can apply data science to the problem of finding shortcuts for us, almost as a shortcut to shortcuts.\n",
    "\n",
    "# Data Collection\n",
    "Having the goal of looking at chess, we need some way to get a lot of data on chess games. The popular chess website lichess is a good source of data, and fortunately there already exists a dataset on Kaggle of chess games pulled from lichess. For those interested, the link is https://www.kaggle.com/datasets/datasnaek/chess. If you'd like to learn about how they did it, it involved using the lichess api documented here https://github.com/lichess-org/lila. Now, from here we can download the \"games.csv\" file containing all the data, and import it into our notebook as a pandas dataframe as so:"
   ]
  },
  {
   "cell_type": "code",
   "execution_count": 1,
   "id": "22cc98da",
   "metadata": {},
   "outputs": [
    {
     "data": {
      "text/html": [
       "<div>\n",
       "<style scoped>\n",
       "    .dataframe tbody tr th:only-of-type {\n",
       "        vertical-align: middle;\n",
       "    }\n",
       "\n",
       "    .dataframe tbody tr th {\n",
       "        vertical-align: top;\n",
       "    }\n",
       "\n",
       "    .dataframe thead th {\n",
       "        text-align: right;\n",
       "    }\n",
       "</style>\n",
       "<table border=\"1\" class=\"dataframe\">\n",
       "  <thead>\n",
       "    <tr style=\"text-align: right;\">\n",
       "      <th></th>\n",
       "      <th>id</th>\n",
       "      <th>rated</th>\n",
       "      <th>created_at</th>\n",
       "      <th>last_move_at</th>\n",
       "      <th>turns</th>\n",
       "      <th>victory_status</th>\n",
       "      <th>winner</th>\n",
       "      <th>increment_code</th>\n",
       "      <th>white_id</th>\n",
       "      <th>white_rating</th>\n",
       "      <th>black_id</th>\n",
       "      <th>black_rating</th>\n",
       "      <th>moves</th>\n",
       "      <th>opening_eco</th>\n",
       "      <th>opening_name</th>\n",
       "      <th>opening_ply</th>\n",
       "    </tr>\n",
       "  </thead>\n",
       "  <tbody>\n",
       "    <tr>\n",
       "      <th>0</th>\n",
       "      <td>TZJHLljE</td>\n",
       "      <td>False</td>\n",
       "      <td>1.504210e+12</td>\n",
       "      <td>1.504210e+12</td>\n",
       "      <td>13</td>\n",
       "      <td>outoftime</td>\n",
       "      <td>white</td>\n",
       "      <td>15+2</td>\n",
       "      <td>bourgris</td>\n",
       "      <td>1500</td>\n",
       "      <td>a-00</td>\n",
       "      <td>1191</td>\n",
       "      <td>d4 d5 c4 c6 cxd5 e6 dxe6 fxe6 Nf3 Bb4+ Nc3 Ba5...</td>\n",
       "      <td>D10</td>\n",
       "      <td>Slav Defense: Exchange Variation</td>\n",
       "      <td>5</td>\n",
       "    </tr>\n",
       "    <tr>\n",
       "      <th>1</th>\n",
       "      <td>l1NXvwaE</td>\n",
       "      <td>True</td>\n",
       "      <td>1.504130e+12</td>\n",
       "      <td>1.504130e+12</td>\n",
       "      <td>16</td>\n",
       "      <td>resign</td>\n",
       "      <td>black</td>\n",
       "      <td>5+10</td>\n",
       "      <td>a-00</td>\n",
       "      <td>1322</td>\n",
       "      <td>skinnerua</td>\n",
       "      <td>1261</td>\n",
       "      <td>d4 Nc6 e4 e5 f4 f6 dxe5 fxe5 fxe5 Nxe5 Qd4 Nc6...</td>\n",
       "      <td>B00</td>\n",
       "      <td>Nimzowitsch Defense: Kennedy Variation</td>\n",
       "      <td>4</td>\n",
       "    </tr>\n",
       "    <tr>\n",
       "      <th>2</th>\n",
       "      <td>mIICvQHh</td>\n",
       "      <td>True</td>\n",
       "      <td>1.504130e+12</td>\n",
       "      <td>1.504130e+12</td>\n",
       "      <td>61</td>\n",
       "      <td>mate</td>\n",
       "      <td>white</td>\n",
       "      <td>5+10</td>\n",
       "      <td>ischia</td>\n",
       "      <td>1496</td>\n",
       "      <td>a-00</td>\n",
       "      <td>1500</td>\n",
       "      <td>e4 e5 d3 d6 Be3 c6 Be2 b5 Nd2 a5 a4 c5 axb5 Nc...</td>\n",
       "      <td>C20</td>\n",
       "      <td>King's Pawn Game: Leonardis Variation</td>\n",
       "      <td>3</td>\n",
       "    </tr>\n",
       "    <tr>\n",
       "      <th>3</th>\n",
       "      <td>kWKvrqYL</td>\n",
       "      <td>True</td>\n",
       "      <td>1.504110e+12</td>\n",
       "      <td>1.504110e+12</td>\n",
       "      <td>61</td>\n",
       "      <td>mate</td>\n",
       "      <td>white</td>\n",
       "      <td>20+0</td>\n",
       "      <td>daniamurashov</td>\n",
       "      <td>1439</td>\n",
       "      <td>adivanov2009</td>\n",
       "      <td>1454</td>\n",
       "      <td>d4 d5 Nf3 Bf5 Nc3 Nf6 Bf4 Ng4 e3 Nc6 Be2 Qd7 O...</td>\n",
       "      <td>D02</td>\n",
       "      <td>Queen's Pawn Game: Zukertort Variation</td>\n",
       "      <td>3</td>\n",
       "    </tr>\n",
       "    <tr>\n",
       "      <th>4</th>\n",
       "      <td>9tXo1AUZ</td>\n",
       "      <td>True</td>\n",
       "      <td>1.504030e+12</td>\n",
       "      <td>1.504030e+12</td>\n",
       "      <td>95</td>\n",
       "      <td>mate</td>\n",
       "      <td>white</td>\n",
       "      <td>30+3</td>\n",
       "      <td>nik221107</td>\n",
       "      <td>1523</td>\n",
       "      <td>adivanov2009</td>\n",
       "      <td>1469</td>\n",
       "      <td>e4 e5 Nf3 d6 d4 Nc6 d5 Nb4 a3 Na6 Nc3 Be7 b4 N...</td>\n",
       "      <td>C41</td>\n",
       "      <td>Philidor Defense</td>\n",
       "      <td>5</td>\n",
       "    </tr>\n",
       "  </tbody>\n",
       "</table>\n",
       "</div>"
      ],
      "text/plain": [
       "         id  rated    created_at  last_move_at  turns victory_status winner  \\\n",
       "0  TZJHLljE  False  1.504210e+12  1.504210e+12     13      outoftime  white   \n",
       "1  l1NXvwaE   True  1.504130e+12  1.504130e+12     16         resign  black   \n",
       "2  mIICvQHh   True  1.504130e+12  1.504130e+12     61           mate  white   \n",
       "3  kWKvrqYL   True  1.504110e+12  1.504110e+12     61           mate  white   \n",
       "4  9tXo1AUZ   True  1.504030e+12  1.504030e+12     95           mate  white   \n",
       "\n",
       "  increment_code       white_id  white_rating      black_id  black_rating  \\\n",
       "0           15+2       bourgris          1500          a-00          1191   \n",
       "1           5+10           a-00          1322     skinnerua          1261   \n",
       "2           5+10         ischia          1496          a-00          1500   \n",
       "3           20+0  daniamurashov          1439  adivanov2009          1454   \n",
       "4           30+3      nik221107          1523  adivanov2009          1469   \n",
       "\n",
       "                                               moves opening_eco  \\\n",
       "0  d4 d5 c4 c6 cxd5 e6 dxe6 fxe6 Nf3 Bb4+ Nc3 Ba5...         D10   \n",
       "1  d4 Nc6 e4 e5 f4 f6 dxe5 fxe5 fxe5 Nxe5 Qd4 Nc6...         B00   \n",
       "2  e4 e5 d3 d6 Be3 c6 Be2 b5 Nd2 a5 a4 c5 axb5 Nc...         C20   \n",
       "3  d4 d5 Nf3 Bf5 Nc3 Nf6 Bf4 Ng4 e3 Nc6 Be2 Qd7 O...         D02   \n",
       "4  e4 e5 Nf3 d6 d4 Nc6 d5 Nb4 a3 Na6 Nc3 Be7 b4 N...         C41   \n",
       "\n",
       "                             opening_name  opening_ply  \n",
       "0        Slav Defense: Exchange Variation            5  \n",
       "1  Nimzowitsch Defense: Kennedy Variation            4  \n",
       "2   King's Pawn Game: Leonardis Variation            3  \n",
       "3  Queen's Pawn Game: Zukertort Variation            3  \n",
       "4                        Philidor Defense            5  "
      ]
     },
     "execution_count": 1,
     "metadata": {},
     "output_type": "execute_result"
    }
   ],
   "source": [
    "import pandas as pd\n",
    "\n",
    "#Reads in chess data into pandas dataframe\n",
    "df = pd.read_csv(\"games.csv\")\n",
    "df.head()"
   ]
  },
  {
   "cell_type": "markdown",
   "id": "777851bb",
   "metadata": {},
   "source": [
    "Now having done this, a few important questions need to be addressed about our data. Are any of the entries in our table NaN, and do all of our rows represent unique games? We can answer both of these questions with the following code: "
   ]
  },
  {
   "cell_type": "code",
   "execution_count": 2,
   "id": "ea177388",
   "metadata": {},
   "outputs": [
    {
     "name": "stdout",
     "output_type": "stream",
     "text": [
      "id                0\n",
      "rated             0\n",
      "created_at        0\n",
      "last_move_at      0\n",
      "turns             0\n",
      "victory_status    0\n",
      "winner            0\n",
      "increment_code    0\n",
      "white_id          0\n",
      "white_rating      0\n",
      "black_id          0\n",
      "black_rating      0\n",
      "moves             0\n",
      "opening_eco       0\n",
      "opening_name      0\n",
      "opening_ply       0\n",
      "dtype: int64 \n",
      "\n",
      "4.71 percent\n"
     ]
    }
   ],
   "source": [
    "#Prints out count of NaN entries in each column of df\n",
    "print(df.isna().sum(), \"\\n\")\n",
    "\n",
    "#Calculates percentage of rows that have duplicate game ids\n",
    "percent_repeat = 100*abs(len(df[\"id\"].unique()) - df[\"id\"].count())/df[\"id\"].count()\n",
    "\n",
    "print(\"%.2f percent\" % percent_repeat)"
   ]
  },
  {
   "cell_type": "markdown",
   "id": "ede8c08e",
   "metadata": {},
   "source": [
    "The first line counts how many entries in each column are NaN and outputs the result. The code then computes what percentage of the rows are repeat Game IDs and outputs this. It looks like 4.71% of the rows are repeats, which will be important to keep in mind as we go.\n",
    "\n",
    "# Data Management\n",
    "To orient ourselves, we're going to focus on figuring out what the best opening is for white based on our dataset. To help us, we're going to add a column to our dataset called \"winner\" that contains a 1 when white won a game, and a 0 otherwise. Now we could do our analysis on all the games in our dataset, but when trying to figure out the best opening, games that had a significant skill disadvantage at play might be harmful to our analysis. Considering this, we're going to add another column called \"is_fair\" which is just a boolean that measures whether the ELO rating difference between the two players is less than 200. Having this allows us to filter the focus of our data analysis to similar skill level games when necessary. To that end, we'll also create a new dataframe that only contains games that are \"fair\" (ELO difference less than 200)."
   ]
  },
  {
   "cell_type": "code",
   "execution_count": 3,
   "id": "f63a2e13",
   "metadata": {},
   "outputs": [
    {
     "data": {
      "text/html": [
       "<div>\n",
       "<style scoped>\n",
       "    .dataframe tbody tr th:only-of-type {\n",
       "        vertical-align: middle;\n",
       "    }\n",
       "\n",
       "    .dataframe tbody tr th {\n",
       "        vertical-align: top;\n",
       "    }\n",
       "\n",
       "    .dataframe thead th {\n",
       "        text-align: right;\n",
       "    }\n",
       "</style>\n",
       "<table border=\"1\" class=\"dataframe\">\n",
       "  <thead>\n",
       "    <tr style=\"text-align: right;\">\n",
       "      <th></th>\n",
       "      <th>id</th>\n",
       "      <th>rated</th>\n",
       "      <th>created_at</th>\n",
       "      <th>last_move_at</th>\n",
       "      <th>turns</th>\n",
       "      <th>victory_status</th>\n",
       "      <th>winner</th>\n",
       "      <th>increment_code</th>\n",
       "      <th>white_id</th>\n",
       "      <th>white_rating</th>\n",
       "      <th>black_id</th>\n",
       "      <th>black_rating</th>\n",
       "      <th>moves</th>\n",
       "      <th>opening_eco</th>\n",
       "      <th>opening_name</th>\n",
       "      <th>opening_ply</th>\n",
       "      <th>is_fair</th>\n",
       "    </tr>\n",
       "  </thead>\n",
       "  <tbody>\n",
       "    <tr>\n",
       "      <th>1</th>\n",
       "      <td>l1NXvwaE</td>\n",
       "      <td>True</td>\n",
       "      <td>1.504130e+12</td>\n",
       "      <td>1.504130e+12</td>\n",
       "      <td>16</td>\n",
       "      <td>resign</td>\n",
       "      <td>0</td>\n",
       "      <td>5+10</td>\n",
       "      <td>a-00</td>\n",
       "      <td>1322</td>\n",
       "      <td>skinnerua</td>\n",
       "      <td>1261</td>\n",
       "      <td>d4 Nc6 e4 e5 f4 f6 dxe5 fxe5 fxe5 Nxe5 Qd4 Nc6...</td>\n",
       "      <td>B00</td>\n",
       "      <td>Nimzowitsch Defense: Kennedy Variation</td>\n",
       "      <td>4</td>\n",
       "      <td>True</td>\n",
       "    </tr>\n",
       "    <tr>\n",
       "      <th>2</th>\n",
       "      <td>mIICvQHh</td>\n",
       "      <td>True</td>\n",
       "      <td>1.504130e+12</td>\n",
       "      <td>1.504130e+12</td>\n",
       "      <td>61</td>\n",
       "      <td>mate</td>\n",
       "      <td>1</td>\n",
       "      <td>5+10</td>\n",
       "      <td>ischia</td>\n",
       "      <td>1496</td>\n",
       "      <td>a-00</td>\n",
       "      <td>1500</td>\n",
       "      <td>e4 e5 d3 d6 Be3 c6 Be2 b5 Nd2 a5 a4 c5 axb5 Nc...</td>\n",
       "      <td>C20</td>\n",
       "      <td>King's Pawn Game: Leonardis Variation</td>\n",
       "      <td>3</td>\n",
       "      <td>True</td>\n",
       "    </tr>\n",
       "    <tr>\n",
       "      <th>3</th>\n",
       "      <td>kWKvrqYL</td>\n",
       "      <td>True</td>\n",
       "      <td>1.504110e+12</td>\n",
       "      <td>1.504110e+12</td>\n",
       "      <td>61</td>\n",
       "      <td>mate</td>\n",
       "      <td>1</td>\n",
       "      <td>20+0</td>\n",
       "      <td>daniamurashov</td>\n",
       "      <td>1439</td>\n",
       "      <td>adivanov2009</td>\n",
       "      <td>1454</td>\n",
       "      <td>d4 d5 Nf3 Bf5 Nc3 Nf6 Bf4 Ng4 e3 Nc6 Be2 Qd7 O...</td>\n",
       "      <td>D02</td>\n",
       "      <td>Queen's Pawn Game: Zukertort Variation</td>\n",
       "      <td>3</td>\n",
       "      <td>True</td>\n",
       "    </tr>\n",
       "    <tr>\n",
       "      <th>4</th>\n",
       "      <td>9tXo1AUZ</td>\n",
       "      <td>True</td>\n",
       "      <td>1.504030e+12</td>\n",
       "      <td>1.504030e+12</td>\n",
       "      <td>95</td>\n",
       "      <td>mate</td>\n",
       "      <td>1</td>\n",
       "      <td>30+3</td>\n",
       "      <td>nik221107</td>\n",
       "      <td>1523</td>\n",
       "      <td>adivanov2009</td>\n",
       "      <td>1469</td>\n",
       "      <td>e4 e5 Nf3 d6 d4 Nc6 d5 Nb4 a3 Na6 Nc3 Be7 b4 N...</td>\n",
       "      <td>C41</td>\n",
       "      <td>Philidor Defense</td>\n",
       "      <td>5</td>\n",
       "      <td>True</td>\n",
       "    </tr>\n",
       "    <tr>\n",
       "      <th>6</th>\n",
       "      <td>qwU9rasv</td>\n",
       "      <td>True</td>\n",
       "      <td>1.504230e+12</td>\n",
       "      <td>1.504230e+12</td>\n",
       "      <td>33</td>\n",
       "      <td>resign</td>\n",
       "      <td>1</td>\n",
       "      <td>10+0</td>\n",
       "      <td>capa_jr</td>\n",
       "      <td>1520</td>\n",
       "      <td>daniel_likes_chess</td>\n",
       "      <td>1423</td>\n",
       "      <td>d4 d5 e4 dxe4 Nc3 Nf6 f3 exf3 Nxf3 Nc6 Bb5 a6 ...</td>\n",
       "      <td>D00</td>\n",
       "      <td>Blackmar-Diemer Gambit: Pietrowsky Defense</td>\n",
       "      <td>10</td>\n",
       "      <td>True</td>\n",
       "    </tr>\n",
       "  </tbody>\n",
       "</table>\n",
       "</div>"
      ],
      "text/plain": [
       "         id  rated    created_at  last_move_at  turns victory_status  winner  \\\n",
       "1  l1NXvwaE   True  1.504130e+12  1.504130e+12     16         resign       0   \n",
       "2  mIICvQHh   True  1.504130e+12  1.504130e+12     61           mate       1   \n",
       "3  kWKvrqYL   True  1.504110e+12  1.504110e+12     61           mate       1   \n",
       "4  9tXo1AUZ   True  1.504030e+12  1.504030e+12     95           mate       1   \n",
       "6  qwU9rasv   True  1.504230e+12  1.504230e+12     33         resign       1   \n",
       "\n",
       "  increment_code       white_id  white_rating            black_id  \\\n",
       "1           5+10           a-00          1322           skinnerua   \n",
       "2           5+10         ischia          1496                a-00   \n",
       "3           20+0  daniamurashov          1439        adivanov2009   \n",
       "4           30+3      nik221107          1523        adivanov2009   \n",
       "6           10+0        capa_jr          1520  daniel_likes_chess   \n",
       "\n",
       "   black_rating                                              moves  \\\n",
       "1          1261  d4 Nc6 e4 e5 f4 f6 dxe5 fxe5 fxe5 Nxe5 Qd4 Nc6...   \n",
       "2          1500  e4 e5 d3 d6 Be3 c6 Be2 b5 Nd2 a5 a4 c5 axb5 Nc...   \n",
       "3          1454  d4 d5 Nf3 Bf5 Nc3 Nf6 Bf4 Ng4 e3 Nc6 Be2 Qd7 O...   \n",
       "4          1469  e4 e5 Nf3 d6 d4 Nc6 d5 Nb4 a3 Na6 Nc3 Be7 b4 N...   \n",
       "6          1423  d4 d5 e4 dxe4 Nc3 Nf6 f3 exf3 Nxf3 Nc6 Bb5 a6 ...   \n",
       "\n",
       "  opening_eco                                opening_name  opening_ply  \\\n",
       "1         B00      Nimzowitsch Defense: Kennedy Variation            4   \n",
       "2         C20       King's Pawn Game: Leonardis Variation            3   \n",
       "3         D02      Queen's Pawn Game: Zukertort Variation            3   \n",
       "4         C41                            Philidor Defense            5   \n",
       "6         D00  Blackmar-Diemer Gambit: Pietrowsky Defense           10   \n",
       "\n",
       "   is_fair  \n",
       "1     True  \n",
       "2     True  \n",
       "3     True  \n",
       "4     True  \n",
       "6     True  "
      ]
     },
     "execution_count": 3,
     "metadata": {},
     "output_type": "execute_result"
    }
   ],
   "source": [
    "#Creates a new column that is 1 whenever white wins a game, and 0 otherwise\n",
    "df[\"winner\"] = df.apply(lambda row: int(row[\"winner\"] == \"white\"), axis=1)\n",
    "\n",
    "#Creates a new column containing a boolean measuring whether the ELO difference between players is less than 200\n",
    "df[\"is_fair\"] = abs(df[\"white_rating\"] - df[\"black_rating\"]) < 200\n",
    "\n",
    "#Creates a new dataset only containing \"fair\" (ELO difference < 200) games\n",
    "fair_df = df[df[\"is_fair\"]]\n",
    "fair_df.head()"
   ]
  },
  {
   "cell_type": "markdown",
   "id": "88fc4829",
   "metadata": {},
   "source": [
    "Having done all this, we can now start to do data analysis on our chess games.\n",
    "\n",
    "# Exploratory Data Analysis\n",
    "An easy first question we might have about the data set is what the average win rate is our white, and if this changes when we restrict our focus only to fair games. It's also important that we check to make sure that our focus on fairness hasn't left us with too small of a dataset to do analysis with."
   ]
  },
  {
   "cell_type": "code",
   "execution_count": 4,
   "id": "749ad39b",
   "metadata": {},
   "outputs": [
    {
     "name": "stdout",
     "output_type": "stream",
     "text": [
      "The average win rate for white over all the games is 0.49860404826004584\n",
      "The data set contains 13708 games with an ELO difference less than 200.\n",
      "The average win rate for white over all fair games is 0.49365334111467757\n"
     ]
    }
   ],
   "source": [
    "#The mean of our winner column works out to be exactly the win rate for white\n",
    "print(\"The average win rate for white over all the games is\", df[\"winner\"].mean())\n",
    "\n",
    "print(\"The data set contains\", len(fair_df.index), \"games with an ELO difference less than 200.\")\n",
    "print(\"The average win rate for white over all fair games is\", fair_df[\"winner\"].mean())"
   ]
  },
  {
   "cell_type": "markdown",
   "id": "442fffe9",
   "metadata": {},
   "source": [
    "It looks like we still have a reasonably large data set to analyze despite our focus on fairness, and we've already stumbled upon an interesting pattern in the data. The fact that the average win rate is higher when we consider unfair games implies that in games with a skill disadvantage its more advantageous to play as white. This matches with what we might expect, but it's also important to keep in mind that the difference is much too slight to be statistically significant. Now considering that we want to look at how openings affect win rates, we should check to see what the ratio looks like between games in our dataset and unique openings present in our dataset. \n",
    "\n",
    "We can calculate both like so, for both overall games and just for fair games:"
   ]
  },
  {
   "cell_type": "code",
   "execution_count": 5,
   "id": "51c91e56",
   "metadata": {},
   "outputs": [
    {
     "name": "stdout",
     "output_type": "stream",
     "text": [
      "Number of overall games: 20058\n",
      "Number of overall unique openings: 365\n",
      "Ratio of the two: 59.16814159292036 \n",
      "\n",
      "Number of fair games: 13708\n",
      "Number of unique openings in fair games: 339\n",
      "Ratio of the two: 40.43657817109145 \n",
      "\n",
      "This already presents an interesting difference, since these openings were only played in games where the ELO difference \n",
      "was greater than 200: ['A67', 'D48', 'E44', 'A33', 'A97', 'E42', 'E06', 'B58', 'A59', 'D47', 'D81', 'D38', 'C09', 'E95', 'C32', 'E18', 'D95', 'D57', 'D22', 'C94', 'E72', 'E63', 'A91', 'C04', 'E48', 'D19']\n"
     ]
    }
   ],
   "source": [
    "#Calculates number of games and unique openings and the ratio of the two\n",
    "print(\"Number of overall games:\", df[\"opening_eco\"].count())\n",
    "print(\"Number of overall unique openings:\", len(df[\"opening_eco\"].unique()))\n",
    "print(\"Ratio of the two:\", df[\"opening_eco\"].count()/len(fair_df[\"opening_eco\"].unique()), \"\\n\")\n",
    "\n",
    "#Does the same thing except for fair games instead\n",
    "print(\"Number of fair games:\", fair_df[\"opening_eco\"].count())\n",
    "print(\"Number of unique openings in fair games:\", len(fair_df[\"opening_eco\"].unique()))\n",
    "print(\"Ratio of the two:\", fair_df[\"opening_eco\"].count()/len(fair_df[\"opening_eco\"].unique()), \"\\n\")\n",
    "\n",
    "#Creates a list containing openings which appear in our overall dataset but not the fair games\n",
    "play_opens = [x for x in df[\"opening_eco\"].unique() if x not in fair_df[\"opening_eco\"].unique()]\n",
    "print(\"This already presents an interesting difference, since these openings were only played in games where \\\n",
    "the ELO difference \\nwas greater than 200:\", play_opens)"
   ]
  },
  {
   "cell_type": "markdown",
   "id": "5f70de27",
   "metadata": {},
   "source": [
    "Now I pointed out above that some openings were only played in games where the ELO difference was greater than 200. I think this could be interesting as an aside just because it might hint towards these openings having something worth looking into. However, for our purposes of finding the best opening for white, they aren't very important. Having done all of this though, we are nearly ready to get into the thick of the data analysis.\n",
    "\n",
    "The last thing we want to do though is make sure that we're only judging openings that were represented well in our data, as it doesn't make much sense to say that an opening with a 100% win rate that is only played out once in our data is well supported as the best possible opening for white. To that end, we want to get a frequency count for each opening, and for our purposes we'll only consider openings for which we have at least 20 games in our data. In effect, we're going to use this to add a column to our dataset, \"common_open\", which states whether a game used an opening which is common in our dataset (at least 20 games used it)."
   ]
  },
  {
   "cell_type": "code",
   "execution_count": 6,
   "id": "907e2beb",
   "metadata": {},
   "outputs": [
    {
     "data": {
      "text/plain": [
       "1    True\n",
       "2    True\n",
       "3    True\n",
       "4    True\n",
       "6    True\n",
       "Name: common_open, dtype: bool"
      ]
     },
     "execution_count": 6,
     "metadata": {},
     "output_type": "execute_result"
    }
   ],
   "source": [
    "#We group by openings and count the number of games each opening has\n",
    "opening_freq = fair_df.groupby(by=\"opening_eco\", axis = 0)[\"id\"].count()\n",
    "#This creates a list of openings for which we have at least 20 fair games for (we'll call these common)\n",
    "abundant_open = opening_freq[opening_freq >= 20].index\n",
    "\n",
    "#This creates a new column in our both of our datasets marking whether the opening used is coomon\n",
    "is_common = fair_df.apply(lambda row: row[\"opening_eco\"] in abundant_open, axis = 1)\n",
    "df = df.assign(common_open = is_common)\n",
    "fair_df = fair_df.assign(common_open = is_common)\n",
    "fair_df[\"common_open\"].head()"
   ]
  },
  {
   "cell_type": "markdown",
   "id": "79b8890f",
   "metadata": {},
   "source": [
    "Alright, we now have all the tools to filter out which games we think are useful for the question of best opening for white. They have to be fair games, so we'll be using our fair_df, and they have to be common openings, so we'll be querying our dataframe for rows with common_open true. Using this, we can compute the white winning rates for each opening and then create a histogram and violin plot of the results like so:"
   ]
  },
  {
   "cell_type": "code",
   "execution_count": 7,
   "id": "783a9010",
   "metadata": {},
   "outputs": [
    {
     "data": {
      "image/png": "[encoded data removed]",
      "text/plain": [
       "<Figure size 432x288 with 1 Axes>"
      ]
     },
     "metadata": {
      "needs_background": "light"
     },
     "output_type": "display_data"
    },
    {
     "data": {
      "image/png": "[encoded data removed]",
      "text/plain": [
       "<Figure size 432x288 with 1 Axes>"
      ]
     },
     "metadata": {
      "needs_background": "light"
     },
     "output_type": "display_data"
    }
   ],
   "source": [
    "#We filter out for fair games which have common openings, then group by openings and compute the win rate for each\n",
    "win_rates = fair_df[fair_df[\"common_open\"]].groupby(by=\"opening_eco\", axis = 0)[\"winner\"].mean()\n",
    "\n",
    "#Creates a histogram of win rates over the openings\n",
    "win_rates.hist(bins=20).set_xlabel(\"White Win Rate\")\n",
    "\n",
    "#This creates a violin plot for the win rates over the openings\n",
    "import matplotlib.pyplot as plt\n",
    "fig, ax = plt.subplots()\n",
    "\n",
    "ax.violinplot(win_rates.to_numpy(),[0],widths=4,showmeans=True)\n",
    "ax.set_xlabel(\"\")\n",
    "ax.set_ylabel(\"White Win Rate\")\n",
    "ax.set_title(\"White Win Rate over Opening Sequences\")\n",
    "fig.savefig(\"violin.png\")"
   ]
  },
  {
   "cell_type": "markdown",
   "id": "b1331b2d",
   "metadata": {},
   "source": [
    "If you aren't familar with a violin plot, it's essentially a box and whisker plot with the width of the surrounding area representing how much of the data falls at that height. In other words, it has a density distribution layed over top it. If you're interested in learning more, here's a link that goes into more detail: https://mode.com/blog/violin-plot-examples/#:~:text=What%20is%20a%20violin%20plot%3F,the%20density%20of%20each%20variable. Looking at this, it's seems like white win rates are skewed left and centered right of around 0.5, meaning that most opening sequences are good for white, but a few are pretty terrible.\n",
    "\n",
    "Unfortunately, it doesn't look like there are any guaranteed winning strategies to be found for white in our data though, since the highest win rate is still less than 0.7. Now while these plots tell a lot about the situation, we might still want to get more precise numbers for our distribution of white winning rates over opening sequences, and we still want to know what the best opening sequence was for white. We can use pandas to answer both of these questions as follows:"
   ]
  },
  {
   "cell_type": "code",
   "execution_count": 8,
   "id": "c502ba17",
   "metadata": {},
   "outputs": [
    {
     "name": "stdout",
     "output_type": "stream",
     "text": [
      "count    110.000000\n",
      "mean       0.496638\n",
      "std        0.078354\n",
      "min        0.238095\n",
      "25%        0.455195\n",
      "50%        0.497170\n",
      "75%        0.550000\n",
      "max        0.666667\n",
      "Name: winner, dtype: float64 \n",
      "\n",
      "opening_eco\n",
      "A13    0.666667\n",
      "C24    0.646341\n",
      "C70    0.636364\n",
      "C34    0.617021\n",
      "B33    0.612903\n",
      "Name: winner, dtype: float64 \n",
      "\n",
      "opening_eco\n",
      "A03    0.338710\n",
      "A46    0.333333\n",
      "D10    0.308824\n",
      "C54    0.281250\n",
      "D43    0.238095\n",
      "Name: winner, dtype: float64\n"
     ]
    }
   ],
   "source": [
    "#This sorts the openings by their win_rates, then we print out the statistical summary and the top and bottom 5\n",
    "win_rates = win_rates.sort_values(ascending = False)\n",
    "\n",
    "print(win_rates.describe(), \"\\n\")\n",
    "\n",
    "print(win_rates.head(), \"\\n\")\n",
    "\n",
    "print(win_rates.tail())"
   ]
  },
  {
   "cell_type": "markdown",
   "id": "47837e53",
   "metadata": {},
   "source": [
    "From here, we finally have an answer to our question of the best opening for white based on our data. It is apparently A13, which is the English Opening of 1. c4 e6. Some close alternatives are C24: Bishop's Opening of 1. e4 e5 2. Bc4 Nf6, C70: Ruy Lopez of 1.e4 e5 2.Nf3 Nc6 3.Bb5 a6 4.Ba4, C34: King's Gambit of 1.e4 e5 2.f4 exf4 3.Nf3, and B33: Sicillian Defense of 1.e4 c5 2.Nf3 Nc6 3.d4 cxd4 4.Nxd4 Nf6.\n",
    "\n",
    "However, it's a fair question as to whether or not these results are statistically significant. It's a little complicated as to how exactly we should answer this question, but the approach I'll take is to check whether each of our top 5 openings performed significantly better than the worst, D43, in our dataset. We can check this by doing an independent T-test between the sample of games for each opening sequence. If you're interested in learning more about what an independent T-test does, look here: \n",
    "\n",
    "https://statistics.laerd.com/statistical-guides/independent-t-test-statistical-guide.php#:~:text=The%20independent%20t%2Dtest%2C%20also,means%20in%20two%20unrelated%20groups\n",
    "\n",
    "If you'd like to learn more about the implementation of it in python, look here: \n",
    "https://docs.scipy.org/doc/scipy/reference/generated/scipy.stats.ttest_ind.html\n",
    "\n",
    "This essentially considers the idea that our best opening sequence has the same average win rate as our worst opening sequence. This is called our null-hypothesis, and a T-test calculates the probability that this is true, which we call the p-value."
   ]
  },
  {
   "cell_type": "code",
   "execution_count": 9,
   "id": "ac7ccbc7",
   "metadata": {},
   "outputs": [
    {
     "name": "stdout",
     "output_type": "stream",
     "text": [
      "Ttest_indResult(statistic=3.451342449813167, pvalue=0.0012214328817103698)\n",
      "Ttest_indResult(statistic=3.743594964252896, pvalue=0.0006796259988501868)\n",
      "Ttest_indResult(statistic=3.446232742032152, pvalue=0.0013485642629498015)\n",
      "Ttest_indResult(statistic=3.1790504332707754, pvalue=0.002736168285661245)\n",
      "Ttest_indResult(statistic=2.8764466253915515, pvalue=0.006051984577003894)\n"
     ]
    }
   ],
   "source": [
    "#This creates Series containing the results of games using each opening\n",
    "a13_wins = fair_df[fair_df[\"opening_eco\"] == \"A13\"][\"winner\"]\n",
    "c24_wins = fair_df[fair_df[\"opening_eco\"] == \"C24\"][\"winner\"]\n",
    "c70_wins = fair_df[fair_df[\"opening_eco\"] == \"C70\"][\"winner\"]\n",
    "c34_wins = fair_df[fair_df[\"opening_eco\"] == \"C34\"][\"winner\"]\n",
    "b33_wins = fair_df[fair_df[\"opening_eco\"] == \"B33\"][\"winner\"]\n",
    "d43_wins = fair_df[fair_df[\"opening_eco\"] == \"D43\"][\"winner\"]\n",
    "\n",
    "from scipy import stats\n",
    "\n",
    "#Carries out an independent t-test w/ no assumption of equal variance between the samples (seems reasonable)\n",
    "print(stats.ttest_ind(a13_wins, d43_wins, equal_var = False))\n",
    "print(stats.ttest_ind(c24_wins, d43_wins, equal_var = False))\n",
    "print(stats.ttest_ind(c70_wins, d43_wins, equal_var = False))\n",
    "print(stats.ttest_ind(c34_wins, d43_wins, equal_var = False))\n",
    "print(stats.ttest_ind(b33_wins, d43_wins, equal_var = False))"
   ]
  },
  {
   "cell_type": "markdown",
   "id": "5819178f",
   "metadata": {},
   "source": [
    "Since all of our p-values were less than 0.05 (this is somewhat arbitrary but is typically considered a good threshold for statistical significance), our best opening sequences were statistically significantly better than the worst.\n",
    "\n",
    "Having figured out how to win, a natural question is how to dominate. In other words, what opening sequence in our data set leads to the quickest wins. To analyze this question, we need to create a new column in our dataset representing the duration of each game, which can be done like so:"
   ]
  },
  {
   "cell_type": "code",
   "execution_count": 10,
   "id": "2328d48a",
   "metadata": {},
   "outputs": [
    {
     "name": "stdout",
     "output_type": "stream",
     "text": [
      "0   0 days\n",
      "1   0 days\n",
      "2   0 days\n",
      "3   0 days\n",
      "4   0 days\n",
      "Name: duration, dtype: timedelta64[ns] \n",
      "\n",
      "20053   0 days 00:05:21.733999872\n",
      "20054   0 days 00:12:24.219000064\n",
      "20055   0 days 00:02:52.833999872\n",
      "20056   0 days 00:15:46.698999808\n",
      "20057   0 days 00:12:16.699000064\n",
      "Name: duration, dtype: timedelta64[ns]\n"
     ]
    }
   ],
   "source": [
    "import datetime\n",
    "\n",
    "#This converts the UNIX time codes for start and end of games in our table to datetimes\n",
    "df[\"created_at_dt\"] = pd.to_datetime(df[\"created_at\"]/1000, \n",
    "                                           unit='s', \n",
    "                                           origin='unix')\n",
    "\n",
    "df[\"last_move_at_dt\"] = pd.to_datetime(df[\"last_move_at\"]/1000, \n",
    "                                             unit='s', \n",
    "                                             origin='unix')\n",
    "\n",
    "#Computes the duration of each game as a datetime.timedelta\n",
    "df[\"duration\"] = df[\"last_move_at_dt\"] - df[\"created_at_dt\"]\n",
    "\n",
    "#Updates fair_df with these new durations\n",
    "fair_df = df[df[\"is_fair\"]]\n",
    "\n",
    "#Prints out the head and tail of this new column to illustrate a problem in the data\n",
    "print(df[\"duration\"].head(), \"\\n\")\n",
    "print(df[\"duration\"].tail())"
   ]
  },
  {
   "cell_type": "markdown",
   "id": "eb5c3499",
   "metadata": {},
   "source": [
    "In the code above I used a library in python called datetime which is often useful. If you'd like to learn more about it, a good source is its documentation linked here:\n",
    "\n",
    "https://docs.python.org/3/library/datetime.html\n",
    "\n",
    "Having done all of this, we now have to step back and check to see if there are any issues with this data. It should be clear that something is at issue when the first five games were instantaneous. The easiest solution to this is to just ignore games that had 0 duration from our dataset. After having done this, we can calculate an interesting summary statistic of how long an average game takes."
   ]
  },
  {
   "cell_type": "code",
   "execution_count": 11,
   "id": "e058e631",
   "metadata": {},
   "outputs": [
    {
     "name": "stdout",
     "output_type": "stream",
     "text": [
      "8548 games have duration recorded as 0.\n",
      "The average duration over all games with recorded durations is 0 days 00:25:15.602432751\n",
      "The average duration over all fair games with recorded durations is 0 days 00:24:30.311214839\n"
     ]
    }
   ],
   "source": [
    "#Calculates the number of games that recorded 0 duration\n",
    "zero_time = datetime.timedelta(0)\n",
    "print(df[df[\"duration\"] == zero_time][\"id\"].count(), \"games have duration recorded as 0.\")\n",
    "\n",
    "#Creates a new dataset only containing games with nonzero duration\n",
    "valid_games = df[df[\"duration\"] != zero_time]\n",
    "\n",
    "#Computes and print the average duration over all games and over all fair games\n",
    "print(\"The average duration over all games with recorded durations is\", valid_games[\"duration\"].mean())\n",
    "print(\"The average duration over all fair games with recorded durations is\", valid_games[valid_games[\"is_fair\"]]\\\n",
    "      [\"duration\"].mean())"
   ]
  },
  {
   "cell_type": "markdown",
   "id": "c0556c43",
   "metadata": {},
   "source": [
    "It looks like the average game of online chess took 25 minutes and 15 seconds, and if we consider \"fair\" games, this drops to 24 minutes and 30 seconds. Focusing back on our goal though, we can repeat the same process we did with win-rates to create a histogram and violin plot of durations over our opening sequences like so:"
   ]
  },
  {
   "cell_type": "code",
   "execution_count": 13,
   "id": "1f770b92",
   "metadata": {},
   "outputs": [
    {
     "name": "stdout",
     "output_type": "stream",
     "text": [
      "opening_eco\n",
      "A00   0 days 00:20:41.847167742\n",
      "A01   0 days 00:33:26.277264685\n",
      "A02   0 days 00:37:58.791222257\n",
      "A03   0 days 00:08:38.914461518\n",
      "A04   0 days 00:21:59.884254524\n",
      "                 ...           \n",
      "D45   0 days 00:09:21.942199910\n",
      "E00   0 days 00:17:15.277499968\n",
      "E20   0 days 00:25:24.878777770\n",
      "E61   0 days 00:42:55.965090816\n",
      "E90   0 days 00:15:32.708600012\n",
      "Name: duration, Length: 110, dtype: timedelta64[ns]\n"
     ]
    },
    {
     "data": {
      "image/png": "[encoded data removed]",
      "text/plain": [
       "<Figure size 432x288 with 1 Axes>"
      ]
     },
     "metadata": {
      "needs_background": "light"
     },
     "output_type": "display_data"
    },
    {
     "data": {
      "image/png": "[encoded data removed]",
      "text/plain": [
       "<Figure size 432x288 with 1 Axes>"
      ]
     },
     "metadata": {
      "needs_background": "light"
     },
     "output_type": "display_data"
    }
   ],
   "source": [
    "#Creates a new dataset only containing fair games that white won which had nonzero duration\n",
    "valid_fair_wins_df = fair_df[fair_df[\"duration\"] != zero_time]\n",
    "valid_fair_wins_df = valid_fair_wins_df[valid_fair_wins_df[\"winner\"] == 1]\n",
    "\n",
    "#Calculates the average duration for each opening sequence that we consider common (>= 20 fair games)\n",
    "durations = valid_fair_wins_df[valid_fair_wins_df[\"common_open\"]].groupby(by=\"opening_eco\", axis = 0)[\"duration\"].mean()\n",
    "\n",
    "print(durations)\n",
    "\n",
    "#Converts each duration into seconds to make it easier to display\n",
    "durations = durations.apply(lambda x: x.total_seconds())\n",
    "durations.hist(bins=10).set_xlabel(\"Duration (s)\")\n",
    "\n",
    "fig, ax = plt.subplots()\n",
    "\n",
    "ax.violinplot(durations.to_numpy(),[0],widths=4,showmeans=True)\n",
    "ax.set_xlabel(\"\")\n",
    "ax.set_ylabel(\"Duration (s)\")\n",
    "ax.set_title(\"Duration over Opening Sequences\")\n",
    "fig.savefig(\"violin.png\")"
   ]
  },
  {
   "cell_type": "markdown",
   "id": "ba5035d0",
   "metadata": {},
   "source": [
    "Disregarding an outlier around 4000, our distribution seems to be symmetric and unimodal around 1500. This lends credence to the idea that opening sequences might not have a significant effect on winning time, as the data is nearly normally distributed. This matches what we would expect if they all had the same average winning time. Continuing onwards despite this though, we can find which opening sequences took the longest and the least amount of time to win:"
   ]
  },
  {
   "cell_type": "code",
   "execution_count": 15,
   "id": "f873eb72",
   "metadata": {},
   "outputs": [
    {
     "name": "stdout",
     "output_type": "stream",
     "text": [
      "count     110.000000\n",
      "mean     1371.143961\n",
      "std       617.182891\n",
      "min       429.580999\n",
      "25%       933.371950\n",
      "50%      1311.869555\n",
      "75%      1647.066873\n",
      "max      3457.307749\n",
      "Name: duration, dtype: float64 \n",
      "\n",
      "opening_eco\n",
      "B57    3457.307749\n",
      "C78    3069.521500\n",
      "A43    3045.544153\n",
      "A46    2921.289200\n",
      "B54    2601.182923\n",
      "Name: duration, dtype: float64 \n",
      "\n",
      "opening_eco\n",
      "C61    597.185333\n",
      "C27    563.369777\n",
      "D45    561.942199\n",
      "A03    518.914461\n",
      "C77    429.580999\n",
      "Name: duration, dtype: float64\n"
     ]
    }
   ],
   "source": [
    "#This sorts the openings by their durations, then we print out the statistical summary and the top and bottom 5\n",
    "durations = durations.sort_values(ascending = False)\n",
    "\n",
    "print(durations.describe(), \"\\n\")\n",
    "\n",
    "print(durations.head(), \"\\n\")\n",
    "\n",
    "print(durations.tail())"
   ]
  },
  {
   "cell_type": "markdown",
   "id": "c94c1f85",
   "metadata": {},
   "source": [
    "It looks like A20 was the outlier in the plots, taking 4375 seconds or about 73 minutes to finish its games. Considering the earlier unreliability of our data, this should probably be taken with a grain of salt. However, we can now say that the quickest winning opening sequences are A49, C22, B52, C58, and C26. Considering the plots though, it's important to see what a T-Test says about the significance of this result. We'll proceed in the exact same way as we did before, however due to the suspect nature of A20 we'll use A07 instead."
   ]
  },
  {
   "cell_type": "code",
   "execution_count": 14,
   "id": "bf1d9815",
   "metadata": {},
   "outputs": [
    {
     "name": "stdout",
     "output_type": "stream",
     "text": [
      "Ttest_indResult(statistic=1.0322508140838718, pvalue=0.3485519892237561)\n",
      "Ttest_indResult(statistic=1.042227868315162, pvalue=0.3448247098492884)\n",
      "Ttest_indResult(statistic=1.0376048785694147, pvalue=0.3452792151233667)\n",
      "Ttest_indResult(statistic=0.8117412119782935, pvalue=0.4531322660525688)\n",
      "Ttest_indResult(statistic=1.0016862051799895, pvalue=0.3621814680149846)\n"
     ]
    }
   ],
   "source": [
    "#This creates Series containing the durations of games using each opening\n",
    "a07_durations = valid_fair_wins_df[valid_fair_wins_df[\"opening_eco\"] == \"A07\"][\"duration\"]\n",
    "c26_durations = valid_fair_wins_df[valid_fair_wins_df[\"opening_eco\"] == \"C26\"][\"duration\"]\n",
    "c58_durations = valid_fair_wins_df[valid_fair_wins_df[\"opening_eco\"] == \"C58\"][\"duration\"]\n",
    "b52_durations = valid_fair_wins_df[valid_fair_wins_df[\"opening_eco\"] == \"B52\"][\"duration\"]\n",
    "c22_durations = valid_fair_wins_df[valid_fair_wins_df[\"opening_eco\"] == \"C22\"][\"duration\"]\n",
    "a49_durations = valid_fair_wins_df[valid_fair_wins_df[\"opening_eco\"] == \"A49\"][\"duration\"]\n",
    "\n",
    "#Converts the durations to seconds to make the t-tests work\n",
    "a07_durations = a07_durations.apply(lambda x: x.total_seconds())\n",
    "a49_durations = a49_durations.apply(lambda x: x.total_seconds())\n",
    "c22_durations = c22_durations.apply(lambda x: x.total_seconds())\n",
    "b52_durations = b52_durations.apply(lambda x: x.total_seconds())\n",
    "c58_durations = c58_durations.apply(lambda x: x.total_seconds())\n",
    "c26_durations = c26_durations.apply(lambda x: x.total_seconds())\n",
    "\n",
    "#Carries out an independent t-test w/ no assumption of equal variance between the samples (seems reasonable)\n",
    "print(stats.ttest_ind(a07_durations.to_numpy(), a49_durations.to_numpy(), equal_var = False))\n",
    "print(stats.ttest_ind(a07_durations.to_numpy(), c22_durations.to_numpy(), equal_var = False))\n",
    "print(stats.ttest_ind(a07_durations.to_numpy(), b52_durations.to_numpy(), equal_var = False))\n",
    "print(stats.ttest_ind(a07_durations.to_numpy(), c58_durations.to_numpy(), equal_var = False))\n",
    "print(stats.ttest_ind(a07_durations.to_numpy(), c26_durations.to_numpy(), equal_var = False))"
   ]
  },
  {
   "cell_type": "markdown",
   "id": "030d4018",
   "metadata": {},
   "source": [
    "In this case, it looks like none of our results were significantly significant. Even though this is unfortunate, it serves as an important example of how even seemingly significant differences in results (about ~2000-3000 seconds) may not be statistically significant."
   ]
  },
  {
   "cell_type": "markdown",
   "id": "0a4b3ea3",
   "metadata": {},
   "source": [
    "# Conclusion\n",
    "For those of us who aren't nearly experts in chess, this data set does seem to have an answer for which opening sequences we should aim for when playing white. To summarize, we should hope for the English Opening of 1. c4 e6, but we wouldn't be that bad off with any of the following:\n",
    "\n",
    "    Bishop's Opening of 1. e4 e5 2. Bc4 Nf6,\n",
    "    Ruy Lopez of 1.e4 e5 2.Nf3 Nc6 3.Bb5 a6 4.Ba4,\n",
    "    King's Gamit of 1.e4 e5 2.f4 exf4 3.Nf3,\n",
    "    Sicillian Defense of 1.e4 c5 2.Nf3 Nc6 3.d4 cxd4 4.Nxd4 Nf6.\n",
    "    \n",
    "We tried to analyze our data set for which opening sequence had the best winning time, but unfortunately the data didn't support any conclusions about this. However, this could be an interesting question for any readers curious about expanding the dataset using lichess' API."
   ]
  }
 ],
 "metadata": {
  "kernelspec": {
   "display_name": "Python 3 (ipykernel)",
   "language": "python",
   "name": "python3"
  },
  "language_info": {
   "codemirror_mode": {
    "name": "ipython",
    "version": 3
   },
   "file_extension": ".py",
   "mimetype": "text/x-python",
   "name": "python",
   "nbconvert_exporter": "python",
   "pygments_lexer": "ipython3",
   "version": "3.9.12"
  }
 },
 "nbformat": 4,
 "nbformat_minor": 5
}
